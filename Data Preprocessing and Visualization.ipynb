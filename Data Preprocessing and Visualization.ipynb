{
 "cells": [
  {
   "cell_type": "code",
   "execution_count": 48,
   "metadata": {
    "ExecuteTime": {
     "end_time": "2019-05-16T23:36:44.638349Z",
     "start_time": "2019-05-16T23:36:44.635242Z"
    }
   },
   "outputs": [],
   "source": [
    "import pandas as pd\n",
    "import seaborn as sns\n",
    "import matplotlib\n",
    "from numpy import median\n",
    "import matplotlib.pyplot as plt"
   ]
  },
  {
   "cell_type": "code",
   "execution_count": 3,
   "metadata": {
    "ExecuteTime": {
     "end_time": "2019-05-16T23:02:06.392016Z",
     "start_time": "2019-05-16T23:02:06.340275Z"
    }
   },
   "outputs": [],
   "source": [
    "data = pd.read_csv('TB_Burden_Country.csv')"
   ]
  },
  {
   "cell_type": "code",
   "execution_count": 4,
   "metadata": {
    "ExecuteTime": {
     "end_time": "2019-05-16T23:02:09.597709Z",
     "start_time": "2019-05-16T23:02:09.557787Z"
    }
   },
   "outputs": [
    {
     "data": {
      "text/html": [
       "<div>\n",
       "<style scoped>\n",
       "    .dataframe tbody tr th:only-of-type {\n",
       "        vertical-align: middle;\n",
       "    }\n",
       "\n",
       "    .dataframe tbody tr th {\n",
       "        vertical-align: top;\n",
       "    }\n",
       "\n",
       "    .dataframe thead th {\n",
       "        text-align: right;\n",
       "    }\n",
       "</style>\n",
       "<table border=\"1\" class=\"dataframe\">\n",
       "  <thead>\n",
       "    <tr style=\"text-align: right;\">\n",
       "      <th></th>\n",
       "      <th>Country or territory name</th>\n",
       "      <th>ISO 2-character country/territory code</th>\n",
       "      <th>ISO 3-character country/territory code</th>\n",
       "      <th>ISO numeric country/territory code</th>\n",
       "      <th>Region</th>\n",
       "      <th>Year</th>\n",
       "      <th>Estimated total population number</th>\n",
       "      <th>Estimated prevalence of TB (all forms) per 100 000 population</th>\n",
       "      <th>Estimated prevalence of TB (all forms) per 100 000 population, low bound</th>\n",
       "      <th>Estimated prevalence of TB (all forms) per 100 000 population, high bound</th>\n",
       "      <th>...</th>\n",
       "      <th>Estimated incidence of TB cases who are HIV-positive per 100 000 population</th>\n",
       "      <th>Estimated incidence of TB cases who are HIV-positive per 100 000 population, low bound</th>\n",
       "      <th>Estimated incidence of TB cases who are HIV-positive per 100 000 population, high bound</th>\n",
       "      <th>Estimated incidence of TB cases who are HIV-positive</th>\n",
       "      <th>Estimated incidence of TB cases who are HIV-positive, low bound</th>\n",
       "      <th>Estimated incidence of TB cases who are HIV-positive, high bound</th>\n",
       "      <th>Method to derive TBHIV estimates</th>\n",
       "      <th>Case detection rate (all forms), percent</th>\n",
       "      <th>Case detection rate (all forms), percent, low bound</th>\n",
       "      <th>Case detection rate (all forms), percent, high bound</th>\n",
       "    </tr>\n",
       "  </thead>\n",
       "  <tbody>\n",
       "    <tr>\n",
       "      <th>0</th>\n",
       "      <td>Afghanistan</td>\n",
       "      <td>AF</td>\n",
       "      <td>AFG</td>\n",
       "      <td>4</td>\n",
       "      <td>EMR</td>\n",
       "      <td>1990</td>\n",
       "      <td>11731193</td>\n",
       "      <td>306.0</td>\n",
       "      <td>156.0</td>\n",
       "      <td>506.0</td>\n",
       "      <td>...</td>\n",
       "      <td>0.11</td>\n",
       "      <td>0.08</td>\n",
       "      <td>0.14</td>\n",
       "      <td>12.0</td>\n",
       "      <td>9.4</td>\n",
       "      <td>16.0</td>\n",
       "      <td>NaN</td>\n",
       "      <td>20.0</td>\n",
       "      <td>15.0</td>\n",
       "      <td>24.0</td>\n",
       "    </tr>\n",
       "    <tr>\n",
       "      <th>1</th>\n",
       "      <td>Afghanistan</td>\n",
       "      <td>AF</td>\n",
       "      <td>AFG</td>\n",
       "      <td>4</td>\n",
       "      <td>EMR</td>\n",
       "      <td>1991</td>\n",
       "      <td>12612043</td>\n",
       "      <td>343.0</td>\n",
       "      <td>178.0</td>\n",
       "      <td>562.0</td>\n",
       "      <td>...</td>\n",
       "      <td>0.13</td>\n",
       "      <td>0.11</td>\n",
       "      <td>0.16</td>\n",
       "      <td>17.0</td>\n",
       "      <td>14.0</td>\n",
       "      <td>20.0</td>\n",
       "      <td>NaN</td>\n",
       "      <td>96.0</td>\n",
       "      <td>80.0</td>\n",
       "      <td>110.0</td>\n",
       "    </tr>\n",
       "    <tr>\n",
       "      <th>2</th>\n",
       "      <td>Afghanistan</td>\n",
       "      <td>AF</td>\n",
       "      <td>AFG</td>\n",
       "      <td>4</td>\n",
       "      <td>EMR</td>\n",
       "      <td>1992</td>\n",
       "      <td>13811876</td>\n",
       "      <td>371.0</td>\n",
       "      <td>189.0</td>\n",
       "      <td>614.0</td>\n",
       "      <td>...</td>\n",
       "      <td>0.16</td>\n",
       "      <td>0.14</td>\n",
       "      <td>0.18</td>\n",
       "      <td>22.0</td>\n",
       "      <td>19.0</td>\n",
       "      <td>24.0</td>\n",
       "      <td>NaN</td>\n",
       "      <td>NaN</td>\n",
       "      <td>NaN</td>\n",
       "      <td>NaN</td>\n",
       "    </tr>\n",
       "    <tr>\n",
       "      <th>3</th>\n",
       "      <td>Afghanistan</td>\n",
       "      <td>AF</td>\n",
       "      <td>AFG</td>\n",
       "      <td>4</td>\n",
       "      <td>EMR</td>\n",
       "      <td>1993</td>\n",
       "      <td>15175325</td>\n",
       "      <td>392.0</td>\n",
       "      <td>194.0</td>\n",
       "      <td>657.0</td>\n",
       "      <td>...</td>\n",
       "      <td>0.19</td>\n",
       "      <td>0.17</td>\n",
       "      <td>0.21</td>\n",
       "      <td>28.0</td>\n",
       "      <td>25.0</td>\n",
       "      <td>31.0</td>\n",
       "      <td>NaN</td>\n",
       "      <td>NaN</td>\n",
       "      <td>NaN</td>\n",
       "      <td>NaN</td>\n",
       "    </tr>\n",
       "    <tr>\n",
       "      <th>4</th>\n",
       "      <td>Afghanistan</td>\n",
       "      <td>AF</td>\n",
       "      <td>AFG</td>\n",
       "      <td>4</td>\n",
       "      <td>EMR</td>\n",
       "      <td>1994</td>\n",
       "      <td>16485018</td>\n",
       "      <td>410.0</td>\n",
       "      <td>198.0</td>\n",
       "      <td>697.0</td>\n",
       "      <td>...</td>\n",
       "      <td>0.21</td>\n",
       "      <td>0.18</td>\n",
       "      <td>0.24</td>\n",
       "      <td>35.0</td>\n",
       "      <td>30.0</td>\n",
       "      <td>39.0</td>\n",
       "      <td>NaN</td>\n",
       "      <td>NaN</td>\n",
       "      <td>NaN</td>\n",
       "      <td>NaN</td>\n",
       "    </tr>\n",
       "  </tbody>\n",
       "</table>\n",
       "<p>5 rows × 47 columns</p>\n",
       "</div>"
      ],
      "text/plain": [
       "  Country or territory name ISO 2-character country/territory code  \\\n",
       "0               Afghanistan                                     AF   \n",
       "1               Afghanistan                                     AF   \n",
       "2               Afghanistan                                     AF   \n",
       "3               Afghanistan                                     AF   \n",
       "4               Afghanistan                                     AF   \n",
       "\n",
       "  ISO 3-character country/territory code  ISO numeric country/territory code  \\\n",
       "0                                    AFG                                   4   \n",
       "1                                    AFG                                   4   \n",
       "2                                    AFG                                   4   \n",
       "3                                    AFG                                   4   \n",
       "4                                    AFG                                   4   \n",
       "\n",
       "  Region  Year  Estimated total population number  \\\n",
       "0    EMR  1990                           11731193   \n",
       "1    EMR  1991                           12612043   \n",
       "2    EMR  1992                           13811876   \n",
       "3    EMR  1993                           15175325   \n",
       "4    EMR  1994                           16485018   \n",
       "\n",
       "   Estimated prevalence of TB (all forms) per 100 000 population  \\\n",
       "0                                              306.0               \n",
       "1                                              343.0               \n",
       "2                                              371.0               \n",
       "3                                              392.0               \n",
       "4                                              410.0               \n",
       "\n",
       "   Estimated prevalence of TB (all forms) per 100 000 population, low bound  \\\n",
       "0                                              156.0                          \n",
       "1                                              178.0                          \n",
       "2                                              189.0                          \n",
       "3                                              194.0                          \n",
       "4                                              198.0                          \n",
       "\n",
       "   Estimated prevalence of TB (all forms) per 100 000 population, high bound  \\\n",
       "0                                              506.0                           \n",
       "1                                              562.0                           \n",
       "2                                              614.0                           \n",
       "3                                              657.0                           \n",
       "4                                              697.0                           \n",
       "\n",
       "   ...  \\\n",
       "0  ...   \n",
       "1  ...   \n",
       "2  ...   \n",
       "3  ...   \n",
       "4  ...   \n",
       "\n",
       "   Estimated incidence of TB cases who are HIV-positive per 100 000 population  \\\n",
       "0                                               0.11                             \n",
       "1                                               0.13                             \n",
       "2                                               0.16                             \n",
       "3                                               0.19                             \n",
       "4                                               0.21                             \n",
       "\n",
       "   Estimated incidence of TB cases who are HIV-positive per 100 000 population, low bound  \\\n",
       "0                                               0.08                                        \n",
       "1                                               0.11                                        \n",
       "2                                               0.14                                        \n",
       "3                                               0.17                                        \n",
       "4                                               0.18                                        \n",
       "\n",
       "   Estimated incidence of TB cases who are HIV-positive per 100 000 population, high bound  \\\n",
       "0                                               0.14                                         \n",
       "1                                               0.16                                         \n",
       "2                                               0.18                                         \n",
       "3                                               0.21                                         \n",
       "4                                               0.24                                         \n",
       "\n",
       "  Estimated incidence of TB cases who are HIV-positive  \\\n",
       "0                                               12.0     \n",
       "1                                               17.0     \n",
       "2                                               22.0     \n",
       "3                                               28.0     \n",
       "4                                               35.0     \n",
       "\n",
       "   Estimated incidence of TB cases who are HIV-positive, low bound  \\\n",
       "0                                                9.4                 \n",
       "1                                               14.0                 \n",
       "2                                               19.0                 \n",
       "3                                               25.0                 \n",
       "4                                               30.0                 \n",
       "\n",
       "   Estimated incidence of TB cases who are HIV-positive, high bound  \\\n",
       "0                                               16.0                  \n",
       "1                                               20.0                  \n",
       "2                                               24.0                  \n",
       "3                                               31.0                  \n",
       "4                                               39.0                  \n",
       "\n",
       "   Method to derive TBHIV estimates  Case detection rate (all forms), percent  \\\n",
       "0                               NaN                                      20.0   \n",
       "1                               NaN                                      96.0   \n",
       "2                               NaN                                       NaN   \n",
       "3                               NaN                                       NaN   \n",
       "4                               NaN                                       NaN   \n",
       "\n",
       "   Case detection rate (all forms), percent, low bound  \\\n",
       "0                                               15.0     \n",
       "1                                               80.0     \n",
       "2                                                NaN     \n",
       "3                                                NaN     \n",
       "4                                                NaN     \n",
       "\n",
       "   Case detection rate (all forms), percent, high bound  \n",
       "0                                               24.0     \n",
       "1                                              110.0     \n",
       "2                                                NaN     \n",
       "3                                                NaN     \n",
       "4                                                NaN     \n",
       "\n",
       "[5 rows x 47 columns]"
      ]
     },
     "execution_count": 4,
     "metadata": {},
     "output_type": "execute_result"
    }
   ],
   "source": [
    "data.head()"
   ]
  },
  {
   "cell_type": "markdown",
   "metadata": {},
   "source": [
    "# Summary of Data"
   ]
  },
  {
   "cell_type": "markdown",
   "metadata": {},
   "source": [
    "## Histogram"
   ]
  },
  {
   "cell_type": "code",
   "execution_count": 41,
   "metadata": {
    "ExecuteTime": {
     "end_time": "2019-05-16T23:32:06.098197Z",
     "start_time": "2019-05-16T23:32:05.916594Z"
    }
   },
   "outputs": [
    {
     "data": {
      "text/plain": [
       "<matplotlib.axes._subplots.AxesSubplot at 0x1a1814bf28>"
      ]
     },
     "execution_count": 41,
     "metadata": {},
     "output_type": "execute_result"
    },
    {
     "data": {
      "image/png": "[encoded data removed]",
      "text/plain": [
       "<Figure size 432x288 with 1 Axes>"
      ]
     },
     "metadata": {},
     "output_type": "display_data"
    }
   ],
   "source": [
    "data.groupby('Year')['Estimated prevalence of TB (all forms) per 100 000 population'].mean()\\\n",
    ".plot(kind='bar', color = '#F17C67', title ='Worldwide Avg Prevalence of TB per 100,000 Trend')"
   ]
  },
  {
   "cell_type": "markdown",
   "metadata": {},
   "source": [
    "## Barplot"
   ]
  },
  {
   "cell_type": "code",
   "execution_count": 19,
   "metadata": {
    "ExecuteTime": {
     "end_time": "2019-05-16T23:24:55.968643Z",
     "start_time": "2019-05-16T23:24:55.962464Z"
    }
   },
   "outputs": [],
   "source": [
    "df = data[['Region','Year','Estimated prevalence of TB (all forms) per 100 000 population']]"
   ]
  },
  {
   "cell_type": "code",
   "execution_count": 20,
   "metadata": {
    "ExecuteTime": {
     "end_time": "2019-05-16T23:24:58.566510Z",
     "start_time": "2019-05-16T23:24:58.555771Z"
    }
   },
   "outputs": [
    {
     "data": {
      "text/html": [
       "<div>\n",
       "<style scoped>\n",
       "    .dataframe tbody tr th:only-of-type {\n",
       "        vertical-align: middle;\n",
       "    }\n",
       "\n",
       "    .dataframe tbody tr th {\n",
       "        vertical-align: top;\n",
       "    }\n",
       "\n",
       "    .dataframe thead th {\n",
       "        text-align: right;\n",
       "    }\n",
       "</style>\n",
       "<table border=\"1\" class=\"dataframe\">\n",
       "  <thead>\n",
       "    <tr style=\"text-align: right;\">\n",
       "      <th></th>\n",
       "      <th>Region</th>\n",
       "      <th>Year</th>\n",
       "      <th>Estimated prevalence of TB (all forms) per 100 000 population</th>\n",
       "    </tr>\n",
       "  </thead>\n",
       "  <tbody>\n",
       "    <tr>\n",
       "      <th>0</th>\n",
       "      <td>EMR</td>\n",
       "      <td>1990</td>\n",
       "      <td>306.0</td>\n",
       "    </tr>\n",
       "    <tr>\n",
       "      <th>1</th>\n",
       "      <td>EMR</td>\n",
       "      <td>1991</td>\n",
       "      <td>343.0</td>\n",
       "    </tr>\n",
       "    <tr>\n",
       "      <th>2</th>\n",
       "      <td>EMR</td>\n",
       "      <td>1992</td>\n",
       "      <td>371.0</td>\n",
       "    </tr>\n",
       "    <tr>\n",
       "      <th>3</th>\n",
       "      <td>EMR</td>\n",
       "      <td>1993</td>\n",
       "      <td>392.0</td>\n",
       "    </tr>\n",
       "    <tr>\n",
       "      <th>4</th>\n",
       "      <td>EMR</td>\n",
       "      <td>1994</td>\n",
       "      <td>410.0</td>\n",
       "    </tr>\n",
       "  </tbody>\n",
       "</table>\n",
       "</div>"
      ],
      "text/plain": [
       "  Region  Year  Estimated prevalence of TB (all forms) per 100 000 population\n",
       "0    EMR  1990                                              306.0            \n",
       "1    EMR  1991                                              343.0            \n",
       "2    EMR  1992                                              371.0            \n",
       "3    EMR  1993                                              392.0            \n",
       "4    EMR  1994                                              410.0            "
      ]
     },
     "execution_count": 20,
     "metadata": {},
     "output_type": "execute_result"
    }
   ],
   "source": [
    "df.head()"
   ]
  },
  {
   "cell_type": "code",
   "execution_count": 55,
   "metadata": {
    "ExecuteTime": {
     "end_time": "2019-05-16T23:40:32.507673Z",
     "start_time": "2019-05-16T23:40:31.987540Z"
    }
   },
   "outputs": [
    {
     "name": "stderr",
     "output_type": "stream",
     "text": [
      "/Users/minchenwang/anaconda3/lib/python3.6/site-packages/matplotlib/figure.py:459: UserWarning: matplotlib is currently using a non-GUI backend, so cannot show the figure\n",
      "  \"matplotlib is currently using a non-GUI backend, \"\n"
     ]
    },
    {
     "data": {
      "image/png": "[encoded data removed]",
      "text/plain": [
       "<Figure size 432x288 with 1 Axes>"
      ]
     },
     "metadata": {},
     "output_type": "display_data"
    }
   ],
   "source": [
    "fig, ax = plt.subplots()\n",
    "g = sns.barplot(x=\"Region\", y=\"Estimated prevalence of TB (all forms) per 100 000 population\", \n",
    "                 data=df, estimator=median, palette= sns.cubehelix_palette(10),ax=ax)\n",
    "ax.set_ylabel(\"Estimated prevalence of TB\")\n",
    "ax.set_title('Difference of Avg Prevalence of TB among Regions')\n",
    "fig.show()"
   ]
  },
  {
   "cell_type": "markdown",
   "metadata": {
    "ExecuteTime": {
     "end_time": "2019-05-16T23:48:10.178879Z",
     "start_time": "2019-05-16T23:48:10.175189Z"
    }
   },
   "source": [
    "## Scatterplot"
   ]
  },
  {
   "cell_type": "code",
   "execution_count": 67,
   "metadata": {
    "ExecuteTime": {
     "end_time": "2019-05-17T00:27:04.445098Z",
     "start_time": "2019-05-17T00:27:04.278395Z"
    }
   },
   "outputs": [
    {
     "name": "stderr",
     "output_type": "stream",
     "text": [
      "/Users/minchenwang/anaconda3/lib/python3.6/site-packages/matplotlib/figure.py:459: UserWarning: matplotlib is currently using a non-GUI backend, so cannot show the figure\n",
      "  \"matplotlib is currently using a non-GUI backend, \"\n"
     ]
    },
    {
     "data": {
      "image/png": "[encoded data removed]",
      "text/plain": [
       "<Figure size 432x288 with 1 Axes>"
      ]
     },
     "metadata": {},
     "output_type": "display_data"
    }
   ],
   "source": [
    "fig, ax = plt.subplots()\n",
    "g = sns.scatterplot(y=\"Estimated number of deaths from TB (all forms, excluding HIV)\",\n",
    "                    x=\"Estimated prevalence of TB (all forms) per 100 000 population\", data=data, ax=ax)\n",
    "ax.set_xlabel(\"Estimated prevalence of TB\")\n",
    "ax.set_ylabel(\"Estimated number of death\")\n",
    "ax.set_title('Relationship between the Number of Death and Avg Prevalence of TB')\n",
    "fig.show()"
   ]
  },
  {
   "cell_type": "markdown",
   "metadata": {},
   "source": [
    "## Connection Map"
   ]
  },
  {
   "cell_type": "code",
   "execution_count": 77,
   "metadata": {
    "ExecuteTime": {
     "end_time": "2019-05-17T00:42:38.200721Z",
     "start_time": "2019-05-17T00:42:38.194976Z"
    }
   },
   "outputs": [],
   "source": [
    "max_ = pd.DataFrame(data.groupby('Year')['Estimated prevalence of TB (all forms) per 100 000 population'].max()).reset_index()"
   ]
  },
  {
   "cell_type": "code",
   "execution_count": 87,
   "metadata": {
    "ExecuteTime": {
     "end_time": "2019-05-17T00:53:47.792524Z",
     "start_time": "2019-05-17T00:53:47.758126Z"
    }
   },
   "outputs": [],
   "source": [
    "max_change = pd.merge(left=max_,right=data[['Year','Estimated prevalence of TB (all forms) per 100 000 population','Country or territory name','Region']],\n",
    "         on=['Year','Estimated prevalence of TB (all forms) per 100 000 population'])"
   ]
  },
  {
   "cell_type": "code",
   "execution_count": 88,
   "metadata": {
    "ExecuteTime": {
     "end_time": "2019-05-17T00:53:48.376498Z",
     "start_time": "2019-05-17T00:53:48.362297Z"
    }
   },
   "outputs": [
    {
     "data": {
      "text/html": [
       "<div>\n",
       "<style scoped>\n",
       "    .dataframe tbody tr th:only-of-type {\n",
       "        vertical-align: middle;\n",
       "    }\n",
       "\n",
       "    .dataframe tbody tr th {\n",
       "        vertical-align: top;\n",
       "    }\n",
       "\n",
       "    .dataframe thead th {\n",
       "        text-align: right;\n",
       "    }\n",
       "</style>\n",
       "<table border=\"1\" class=\"dataframe\">\n",
       "  <thead>\n",
       "    <tr style=\"text-align: right;\">\n",
       "      <th></th>\n",
       "      <th>Year</th>\n",
       "      <th>Estimated prevalence of TB (all forms) per 100 000 population</th>\n",
       "      <th>Country or territory name</th>\n",
       "      <th>Region</th>\n",
       "    </tr>\n",
       "  </thead>\n",
       "  <tbody>\n",
       "    <tr>\n",
       "      <th>0</th>\n",
       "      <td>1990</td>\n",
       "      <td>1762.0</td>\n",
       "      <td>Bhutan</td>\n",
       "      <td>SEA</td>\n",
       "    </tr>\n",
       "    <tr>\n",
       "      <th>1</th>\n",
       "      <td>1991</td>\n",
       "      <td>1679.0</td>\n",
       "      <td>Central African Republic</td>\n",
       "      <td>AFR</td>\n",
       "    </tr>\n",
       "    <tr>\n",
       "      <th>2</th>\n",
       "      <td>1992</td>\n",
       "      <td>1714.0</td>\n",
       "      <td>Central African Republic</td>\n",
       "      <td>AFR</td>\n",
       "    </tr>\n",
       "    <tr>\n",
       "      <th>3</th>\n",
       "      <td>1993</td>\n",
       "      <td>1736.0</td>\n",
       "      <td>Central African Republic</td>\n",
       "      <td>AFR</td>\n",
       "    </tr>\n",
       "    <tr>\n",
       "      <th>4</th>\n",
       "      <td>1994</td>\n",
       "      <td>1736.0</td>\n",
       "      <td>Central African Republic</td>\n",
       "      <td>AFR</td>\n",
       "    </tr>\n",
       "  </tbody>\n",
       "</table>\n",
       "</div>"
      ],
      "text/plain": [
       "   Year  Estimated prevalence of TB (all forms) per 100 000 population  \\\n",
       "0  1990                                             1762.0               \n",
       "1  1991                                             1679.0               \n",
       "2  1992                                             1714.0               \n",
       "3  1993                                             1736.0               \n",
       "4  1994                                             1736.0               \n",
       "\n",
       "  Country or territory name Region  \n",
       "0                    Bhutan    SEA  \n",
       "1  Central African Republic    AFR  \n",
       "2  Central African Republic    AFR  \n",
       "3  Central African Republic    AFR  \n",
       "4  Central African Republic    AFR  "
      ]
     },
     "execution_count": 88,
     "metadata": {},
     "output_type": "execute_result"
    }
   ],
   "source": [
    "max_change.head()"
   ]
  },
  {
   "cell_type": "code",
   "execution_count": 89,
   "metadata": {
    "ExecuteTime": {
     "end_time": "2019-05-17T00:53:52.929785Z",
     "start_time": "2019-05-17T00:53:52.924317Z"
    }
   },
   "outputs": [],
   "source": [
    "max_change['Next Country'] = max_change['Country or territory name'].shift(-1)"
   ]
  },
  {
   "cell_type": "code",
   "execution_count": 97,
   "metadata": {
    "ExecuteTime": {
     "end_time": "2019-05-17T00:57:11.643947Z",
     "start_time": "2019-05-17T00:57:11.640141Z"
    }
   },
   "outputs": [],
   "source": [
    "import numpy as np"
   ]
  },
  {
   "cell_type": "code",
   "execution_count": 98,
   "metadata": {
    "ExecuteTime": {
     "end_time": "2019-05-17T00:57:11.929956Z",
     "start_time": "2019-05-17T00:57:11.919924Z"
    }
   },
   "outputs": [],
   "source": [
    "max_change['Order'] = np.arange(len(max_change))"
   ]
  },
  {
   "cell_type": "code",
   "execution_count": 99,
   "metadata": {
    "ExecuteTime": {
     "end_time": "2019-05-17T00:57:12.989150Z",
     "start_time": "2019-05-17T00:57:12.969436Z"
    }
   },
   "outputs": [
    {
     "data": {
      "text/html": [
       "<div>\n",
       "<style scoped>\n",
       "    .dataframe tbody tr th:only-of-type {\n",
       "        vertical-align: middle;\n",
       "    }\n",
       "\n",
       "    .dataframe tbody tr th {\n",
       "        vertical-align: top;\n",
       "    }\n",
       "\n",
       "    .dataframe thead th {\n",
       "        text-align: right;\n",
       "    }\n",
       "</style>\n",
       "<table border=\"1\" class=\"dataframe\">\n",
       "  <thead>\n",
       "    <tr style=\"text-align: right;\">\n",
       "      <th></th>\n",
       "      <th>Year</th>\n",
       "      <th>Estimated prevalence of TB (all forms) per 100 000 population</th>\n",
       "      <th>Country or territory name</th>\n",
       "      <th>Region</th>\n",
       "      <th>Next Country</th>\n",
       "      <th>Order</th>\n",
       "    </tr>\n",
       "  </thead>\n",
       "  <tbody>\n",
       "    <tr>\n",
       "      <th>0</th>\n",
       "      <td>1990</td>\n",
       "      <td>1762.0</td>\n",
       "      <td>Bhutan</td>\n",
       "      <td>SEA</td>\n",
       "      <td>Central African Republic</td>\n",
       "      <td>0</td>\n",
       "    </tr>\n",
       "    <tr>\n",
       "      <th>1</th>\n",
       "      <td>1991</td>\n",
       "      <td>1679.0</td>\n",
       "      <td>Central African Republic</td>\n",
       "      <td>AFR</td>\n",
       "      <td>Central African Republic</td>\n",
       "      <td>1</td>\n",
       "    </tr>\n",
       "    <tr>\n",
       "      <th>2</th>\n",
       "      <td>1992</td>\n",
       "      <td>1714.0</td>\n",
       "      <td>Central African Republic</td>\n",
       "      <td>AFR</td>\n",
       "      <td>Central African Republic</td>\n",
       "      <td>2</td>\n",
       "    </tr>\n",
       "    <tr>\n",
       "      <th>3</th>\n",
       "      <td>1993</td>\n",
       "      <td>1736.0</td>\n",
       "      <td>Central African Republic</td>\n",
       "      <td>AFR</td>\n",
       "      <td>Central African Republic</td>\n",
       "      <td>3</td>\n",
       "    </tr>\n",
       "    <tr>\n",
       "      <th>4</th>\n",
       "      <td>1994</td>\n",
       "      <td>1736.0</td>\n",
       "      <td>Central African Republic</td>\n",
       "      <td>AFR</td>\n",
       "      <td>Central African Republic</td>\n",
       "      <td>4</td>\n",
       "    </tr>\n",
       "  </tbody>\n",
       "</table>\n",
       "</div>"
      ],
      "text/plain": [
       "   Year  Estimated prevalence of TB (all forms) per 100 000 population  \\\n",
       "0  1990                                             1762.0               \n",
       "1  1991                                             1679.0               \n",
       "2  1992                                             1714.0               \n",
       "3  1993                                             1736.0               \n",
       "4  1994                                             1736.0               \n",
       "\n",
       "  Country or territory name Region              Next Country  Order  \n",
       "0                    Bhutan    SEA  Central African Republic      0  \n",
       "1  Central African Republic    AFR  Central African Republic      1  \n",
       "2  Central African Republic    AFR  Central African Republic      2  \n",
       "3  Central African Republic    AFR  Central African Republic      3  \n",
       "4  Central African Republic    AFR  Central African Republic      4  "
      ]
     },
     "execution_count": 99,
     "metadata": {},
     "output_type": "execute_result"
    }
   ],
   "source": [
    "max_change.head()"
   ]
  },
  {
   "cell_type": "code",
   "execution_count": 100,
   "metadata": {
    "ExecuteTime": {
     "end_time": "2019-05-17T00:57:14.780291Z",
     "start_time": "2019-05-17T00:57:14.773327Z"
    }
   },
   "outputs": [],
   "source": [
    "max_change.to_csv('ConnectionMap.csv',index=False)"
   ]
  },
  {
   "cell_type": "markdown",
   "metadata": {},
   "source": [
    "## Heatmap"
   ]
  },
  {
   "cell_type": "code",
   "execution_count": 106,
   "metadata": {
    "ExecuteTime": {
     "end_time": "2019-05-17T01:19:44.286734Z",
     "start_time": "2019-05-17T01:19:44.277388Z"
    }
   },
   "outputs": [],
   "source": [
    "df2 = data.groupby([\"Year\",\"Region\"])['Estimated prevalence of TB (all forms) per 100 000 population'].mean().reset_index()"
   ]
  },
  {
   "cell_type": "code",
   "execution_count": 108,
   "metadata": {
    "ExecuteTime": {
     "end_time": "2019-05-17T01:19:55.520056Z",
     "start_time": "2019-05-17T01:19:55.510426Z"
    }
   },
   "outputs": [
    {
     "data": {
      "text/html": [
       "<div>\n",
       "<style scoped>\n",
       "    .dataframe tbody tr th:only-of-type {\n",
       "        vertical-align: middle;\n",
       "    }\n",
       "\n",
       "    .dataframe tbody tr th {\n",
       "        vertical-align: top;\n",
       "    }\n",
       "\n",
       "    .dataframe thead th {\n",
       "        text-align: right;\n",
       "    }\n",
       "</style>\n",
       "<table border=\"1\" class=\"dataframe\">\n",
       "  <thead>\n",
       "    <tr style=\"text-align: right;\">\n",
       "      <th></th>\n",
       "      <th>Year</th>\n",
       "      <th>Region</th>\n",
       "      <th>Estimated prevalence of TB (all forms) per 100 000 population</th>\n",
       "    </tr>\n",
       "  </thead>\n",
       "  <tbody>\n",
       "    <tr>\n",
       "      <th>0</th>\n",
       "      <td>1990</td>\n",
       "      <td>AFR</td>\n",
       "      <td>417.130435</td>\n",
       "    </tr>\n",
       "    <tr>\n",
       "      <th>1</th>\n",
       "      <td>1990</td>\n",
       "      <td>AMR</td>\n",
       "      <td>84.428889</td>\n",
       "    </tr>\n",
       "    <tr>\n",
       "      <th>2</th>\n",
       "      <td>1990</td>\n",
       "      <td>EMR</td>\n",
       "      <td>183.545455</td>\n",
       "    </tr>\n",
       "    <tr>\n",
       "      <th>3</th>\n",
       "      <td>1990</td>\n",
       "      <td>EUR</td>\n",
       "      <td>84.181132</td>\n",
       "    </tr>\n",
       "    <tr>\n",
       "      <th>4</th>\n",
       "      <td>1990</td>\n",
       "      <td>SEA</td>\n",
       "      <td>550.300000</td>\n",
       "    </tr>\n",
       "  </tbody>\n",
       "</table>\n",
       "</div>"
      ],
      "text/plain": [
       "   Year Region  Estimated prevalence of TB (all forms) per 100 000 population\n",
       "0  1990    AFR                                         417.130435            \n",
       "1  1990    AMR                                          84.428889            \n",
       "2  1990    EMR                                         183.545455            \n",
       "3  1990    EUR                                          84.181132            \n",
       "4  1990    SEA                                         550.300000            "
      ]
     },
     "execution_count": 108,
     "metadata": {},
     "output_type": "execute_result"
    }
   ],
   "source": [
    "df2.head()"
   ]
  },
  {
   "cell_type": "code",
   "execution_count": 109,
   "metadata": {
    "ExecuteTime": {
     "end_time": "2019-05-17T01:20:04.102583Z",
     "start_time": "2019-05-17T01:20:04.096618Z"
    }
   },
   "outputs": [],
   "source": [
    "df2 = df2.pivot(\"Year\", \"Region\", \"Estimated prevalence of TB (all forms) per 100 000 population\")"
   ]
  },
  {
   "cell_type": "code",
   "execution_count": 111,
   "metadata": {
    "ExecuteTime": {
     "end_time": "2019-05-17T01:21:02.330708Z",
     "start_time": "2019-05-17T01:21:02.169061Z"
    }
   },
   "outputs": [
    {
     "name": "stderr",
     "output_type": "stream",
     "text": [
      "/Users/minchenwang/anaconda3/lib/python3.6/site-packages/matplotlib/figure.py:459: UserWarning: matplotlib is currently using a non-GUI backend, so cannot show the figure\n",
      "  \"matplotlib is currently using a non-GUI backend, \"\n"
     ]
    },
    {
     "data": {
      "image/png": "[encoded data removed]",
      "text/plain": [
       "<Figure size 432x288 with 2 Axes>"
      ]
     },
     "metadata": {},
     "output_type": "display_data"
    }
   ],
   "source": [
    "fig, ax = plt.subplots()\n",
    "g = sns.heatmap(df2, ax=ax)\n",
    "ax.set_title('Heatmap of Avg Prevalence of TB')\n",
    "fig.show()\n"
   ]
  },
  {
   "cell_type": "code",
   "execution_count": null,
   "metadata": {},
   "outputs": [],
   "source": []
  }
 ],
 "metadata": {
  "kernelspec": {
   "display_name": "Python 3",
   "language": "python",
   "name": "python3"
  },
  "language_info": {
   "codemirror_mode": {
    "name": "ipython",
    "version": 3
   },
   "file_extension": ".py",
   "mimetype": "text/x-python",
   "name": "python",
   "nbconvert_exporter": "python",
   "pygments_lexer": "ipython3",
   "version": "3.6.8"
  }
 },
 "nbformat": 4,
 "nbformat_minor": 2
}
